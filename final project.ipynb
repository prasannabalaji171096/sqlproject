{
 "cells": [
  {
   "cell_type": "code",
   "execution_count": 2,
   "id": "1b312217",
   "metadata": {},
   "outputs": [
    {
     "data": {
      "text/plain": [
       "True"
      ]
     },
     "execution_count": 2,
     "metadata": {},
     "output_type": "execute_result"
    }
   ],
   "source": [
    "import mysql.connector\n",
    "db=mysql.connector.connect(host='localhost',user='root',password='Prasanna1710')\n",
    "db.is_connected()"
   ]
  },
  {
   "cell_type": "code",
   "execution_count": 3,
   "id": "be73a539",
   "metadata": {},
   "outputs": [],
   "source": [
    "sql1='create database school'\n",
    "cursor1=db.cursor()\n",
    "cursor1.execute(sql1)"
   ]
  },
  {
   "cell_type": "code",
   "execution_count": 4,
   "id": "5f376d14",
   "metadata": {},
   "outputs": [],
   "source": [
    "sql2='use school'\n",
    "cursor2=db.cursor()\n",
    "cursor2.execute(sql2)"
   ]
  },
  {
   "cell_type": "code",
   "execution_count": 6,
   "id": "108cb205",
   "metadata": {},
   "outputs": [],
   "source": [
    "sql3='create table student(student_id int primary key auto_increment,name varchar(25),adhar int,parent_name varchar(25),phone int,std int(2),sec varchar(1),maths int,science int,social int,tamil int,english int)'\n",
    "cursor3=db.cursor()\n",
    "cursor3.execute(sql3)"
   ]
  },
  {
   "cell_type": "code",
   "execution_count": null,
   "id": "000f0b34",
   "metadata": {},
   "outputs": [
    {
     "name": "stdout",
     "output_type": "stream",
     "text": [
      "1.insert data\n",
      "2.update data\n",
      "3.select data\n",
      "4.delete data\n",
      "5.exit\n",
      "enter your choice : 2\n",
      "enter the id : 1\n",
      "enter student name : prasannabalaji\n",
      "enter adhar : 5778\n",
      "enter parent name : mani\n",
      "enter phone number : 9750\n",
      "enter the class name : 10\n",
      "enter the section : A\n",
      "enter maths mark : 98\n",
      "enter science mark : 94\n",
      "enter social mark : 90\n",
      "enter tamil mark : 88\n",
      "enter english mark : 65\n",
      "data update success\n",
      "1.insert data\n",
      "2.update data\n",
      "3.select data\n",
      "4.delete data\n",
      "5.exit\n",
      "enter your choice : 5\n",
      "1.insert data\n",
      "2.update data\n",
      "3.select data\n",
      "4.delete data\n",
      "5.exit\n",
      "enter your choice : 7\n",
      "invalid selection. please try again ! \n",
      "1.insert data\n",
      "2.update data\n",
      "3.select data\n",
      "4.delete data\n",
      "5.exit\n",
      "enter your choice : 5\n",
      "1.insert data\n",
      "2.update data\n",
      "3.select data\n",
      "4.delete data\n",
      "5.exit\n"
     ]
    }
   ],
   "source": [
    "import mysql.connector\n",
    "db=mysql.connector.connect(host=\"localhost\",user=\"root\",password=\"Prasanna1710\",database=\"school\")\n",
    "\n",
    "def insert(name,adhar,parent_name,phone,std,sec,maths,science,social,tamil,english):\n",
    "    cursor=db.cursor()\n",
    "    sql=\"insert into student (name,adhar,parent_name,phone,std,sec,maths,science,social,tamil,english) values (%s,%s,%s,%s,%s,%s,%s,%s,%s,%s,%s)\"\n",
    "    user=(name,adhar,parent_name,phone,std,sec,maths,science,social,tamil,english)\n",
    "    cursor.execute(sql,user)\n",
    "    db.commit()\n",
    "    print(\"data insert success\")\n",
    "\n",
    "def update(name,adhar,parent_name,phone,std,sec,maths,science,social,tamil,english,student_id):\n",
    "    cursor=db.cursor()\n",
    "    sql=\"update student set name=%s,adhar=%s,parent_name=%s,phone=%s,std=%s,sec=%s,maths=%s,science=%s,social=%s,tamil=%s,english=%s where student_id=%s\"\n",
    "    user=(name,adhar,parent_name,phone,std,sec,maths,science,social,tamil,english,student_id)\n",
    "    cursor.execute(sql,user)\n",
    "    db.commit()\n",
    "    print(\"data update success\")\n",
    "\n",
    "def select():\n",
    "    cursor=db.cursor()\n",
    "    sql=\"select student_id,name,adhar,parent_name,phone,std,sec,maths,science,social,tamil,english from student\"\n",
    "    cursor.execute(sql)\n",
    "    result=cursor.fetchall()\n",
    "    print(result)\n",
    "\n",
    "def delete(student_id):\n",
    "    cursor=db.cursor()\n",
    "    sql=\"delete from student where student_id=%s\"\n",
    "    user=(student_id,)\n",
    "    cursor.execute(sql,user)\n",
    "    db.commit()\n",
    "    print(\"data delete success\")\n",
    "\n",
    "while True:\n",
    "    print(\"1.insert data\")\n",
    "    print(\"2.update data\")\n",
    "    print(\"3.select data\")\n",
    "    print(\"4.delete data\")\n",
    "    print(\"5.exit\")\n",
    "    choice=int(input(\"enter your choice : \"))\n",
    "    if choice==1:\n",
    "        name=input(\"enter student name : \")\n",
    "        adhar=input(\"enter adhar : \")\n",
    "        parent_name=input(\"enter parent name : \")\n",
    "        phone=input(\"enter phone number : \")\n",
    "        std=input(\"enter the class name : \")\n",
    "        sec=input(\"enter the section : \")\n",
    "        maths=input(\"enter maths mark : \")\n",
    "        science=input(\"enter science mark : \")\n",
    "        social=input(\"enter social mark : \")\n",
    "        tamil=input(\"enter tamil mark : \")\n",
    "        english=input(\"enter english mark : \")\n",
    "        \n",
    "        insert(name,adhar,parent_name,phone,std,sec,maths,science,social,tamil,english)\n",
    "        \n",
    "        \n",
    "    elif choice==2:\n",
    "        student_id=input(\"enter the id : \")\n",
    "        name=input(\"enter student name : \")\n",
    "        adhar=input(\"enter adhar : \")\n",
    "        parent_name=input(\"enter parent name : \")\n",
    "        phone=input(\"enter phone number : \")\n",
    "        std=input(\"enter the class name : \")\n",
    "        sec=input(\"enter the section : \")\n",
    "        maths=input(\"enter maths mark : \")\n",
    "        science=input(\"enter science mark : \")\n",
    "        social=input(\"enter social mark : \")\n",
    "        tamil=input(\"enter tamil mark : \")\n",
    "        english=input(\"enter english mark : \")\n",
    "        update(name,adhar,parent_name,phone,std,sec,maths,science,social,tamil,english,student_id)\n",
    "        \n",
    "    elif choice==3:\n",
    "        select()\n",
    "        \n",
    "    elif choice==4:\n",
    "        student_id=input(\"enter the id to delete : \")\n",
    "        delete(student_id)\n",
    "        \n",
    "    elif choice==5:\n",
    "        quit()\n",
    "        \n",
    "    else:\n",
    "        print(\"invalid selection. please try again ! \")"
   ]
  },
  {
   "cell_type": "code",
   "execution_count": null,
   "id": "d0f95c1c",
   "metadata": {},
   "outputs": [],
   "source": []
  }
 ],
 "metadata": {
  "kernelspec": {
   "display_name": "Python 3 (ipykernel)",
   "language": "python",
   "name": "python3"
  },
  "language_info": {
   "codemirror_mode": {
    "name": "ipython",
    "version": 3
   },
   "file_extension": ".py",
   "mimetype": "text/x-python",
   "name": "python",
   "nbconvert_exporter": "python",
   "pygments_lexer": "ipython3",
   "version": "3.9.12"
  }
 },
 "nbformat": 4,
 "nbformat_minor": 5
}
